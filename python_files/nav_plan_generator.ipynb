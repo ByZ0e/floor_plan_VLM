{
  "nbformat": 4,
  "nbformat_minor": 0,
  "metadata": {
    "colab": {
      "provenance": []
    },
    "kernelspec": {
      "name": "python3",
      "display_name": "Python 3"
    },
    "language_info": {
      "name": "python"
    }
  },
  "cells": [
    {
      "cell_type": "code",
      "execution_count": null,
      "metadata": {
        "id": "922Pj8xGV6lt"
      },
      "outputs": [],
      "source": []
    },
    {
      "cell_type": "code",
      "source": [
        "import os\n",
        "import zipfile\n",
        "\n",
        "# Define the plans\n",
        "plans = {\n",
        "    'IIa_BK0701': [\n",
        "        ('CH.3', 'CH.1'),\n",
        "        ('SEJOUR', 'CUISINE'),\n",
        "        ('CH.2', 'SEJOUR'),\n",
        "        ('CH.1', 'CH.2'),\n",
        "        ('CUISINE', 'CH.3')\n",
        "    ],\n",
        "    'IIa_BK0703': [\n",
        "        ('CELLIER', 'WC'),\n",
        "        ('SEJOUR', 'CAVE'),\n",
        "        ('CUISINE', 'CH.2'),\n",
        "        ('DEGT.', 'PORCHE'),\n",
        "        ('WC', 'BAINS')\n",
        "    ],\n",
        "    'IIa_BN0802': [\n",
        "        ('GARAGE', 'CHAMBRE 2'),\n",
        "        ('CELLIER', 'WC'),\n",
        "        ('BAINS', 'SEJOUR'),\n",
        "        ('CHAMBRE 1', 'TERRASSE COUVERTE'),\n",
        "        ('CUISINE', 'REPAS')\n",
        "    ],\n",
        "    'IIa_BN0820': [\n",
        "        ('GARAGE', 'BAINS'),\n",
        "        ('CELLIER', 'HALL'),\n",
        "        ('CHAMBRE 2', 'WC'),\n",
        "        ('PORCHE', 'CUISINE'),\n",
        "        ('CHAMBRE 1', 'TERRASSE COUVERTE')\n",
        "    ],\n",
        "    'IIa_FE0901': [\n",
        "        ('PORCHE', 'LINGERIE'),\n",
        "        ('BUREAU', 'BAINS'),\n",
        "        ('CHAMBRE PARENTS', 'CELLIER'),\n",
        "        ('GARAGE', 'CHAMBRE ENFANT 1'),\n",
        "        ('HALL', 'CHAMBRE ENFANT 2')\n",
        "    ],\n",
        "    'IIa_OO0401': [\n",
        "        ('CH.1', 'GARAGE'),\n",
        "        ('BAINS', 'HALL'),\n",
        "        ('GARAGE', 'CH.2'),\n",
        "        ('HALL', 'CUISINE'),\n",
        "        ('CUISINE', 'CH.1')\n",
        "    ],\n",
        "    'IIa_TD0810': [\n",
        "        ('GARAGE', 'BAINS'),\n",
        "        ('CHAMBRE 1', 'HALL'),\n",
        "        ('CELLIER', 'CHAMBRE 3'),\n",
        "        ('BAINS', 'PORCHE'),\n",
        "        ('WC', 'CHAMBRE 2')\n",
        "    ],\n",
        "    'IIb_FZ0901': [\n",
        "        ('GARAGES', 'CELLIER'),\n",
        "        ('DOUCHE', 'CHAMBRE 1'),\n",
        "        ('CELLIER', 'HALL'),\n",
        "        ('WC', 'CUISINE'),\n",
        "        ('CHAMBRE 1', 'GARAGES')\n",
        "    ],\n",
        "    'IId_LA0401': [\n",
        "        ('CUISINE', 'DOUCHE'),\n",
        "        ('CELLIER', 'CH. PARENTS'),\n",
        "        ('TERRASSE COUVERTE', 'CUISINE'),\n",
        "        ('DOUCHE', 'CELLIER'),\n",
        "        ('CH. PARENTS', 'TERRASSE COUVERTE')\n",
        "    ]\n",
        "}\n",
        "\n",
        "# Define the prompt template\n",
        "prompt_template = \"\"\"I am a robot that cannot go through walls and must use doors to navigate. This is the floor plan of the building I am in right now (provided as an image). You are a navigation agent, and your task is to give me a detailed, efficient navigation plan that strictly follows a sequence of actions to achieve the navigation task: Begin in the {start} and arrive at the {end}. The only doors which exist are represented as yellow rectangles and labeled as D1-D(n). A plan consists of a sequence...\n",
        "\n",
        "ApproachDoor(x): Move in front of door x.\n",
        "OpenDoor(x): Open door x.\n",
        "GoThrough(x): Move through open door x to the location on the other side.\n",
        "GoTo(x): Move to location x. This action only works when no doors are in the way.\n",
        "\n",
        "Include only the necessary doors that are part of the path being used, and do not mention doors that won't be traversed even if they are in the path.\n",
        "\n",
        "Explicit Room and Door Descriptions: Alongside the image, make a clear list of all rooms and doors with their connections - for your reference.\n",
        "\n",
        "Remember - the door symbol can overlap with the boundaries or common spaces.\n",
        "\n",
        "Important: Carefully inspect the floor plan image to ensure the correct correspondence between doors and rooms. Prioritize providing a correct path over the shortest path. Make sure the path avoids any unnecessary doors or rooms. If any unnecessary doors or rooms are included, silently correct the plan before providing the final sequence. Verify the plan's accuracy before finalizing your response. Give the final path in a json format.\n",
        "\"\"\"\n",
        "\n",
        "# Create a directory to store the text files\n",
        "output_dir = 'nav plans'\n",
        "os.makedirs(output_dir, exist_ok=True)\n",
        "\n",
        "# Create the text files with the format 'start_end_key.txt'\n",
        "for key, plan_list in plans.items():\n",
        "    for start, end in plan_list:\n",
        "        filename = f\"{output_dir}/{key}_{start}_{end}.txt\"\n",
        "        with open(filename, 'w') as f:\n",
        "            f.write(prompt_template.format(start=start, end=end))\n",
        "            f.write(\"\\n\\n\")\n",
        "\n",
        "# Create a zip file\n",
        "zip_filename_corrected = 'sim_nav_plans.zip'\n",
        "with zipfile.ZipFile(zip_filename_corrected, 'w') as zipf:\n",
        "    for foldername, subfolders, filenames in os.walk(output_dir):\n",
        "        for filename in filenames:\n",
        "            file_path = os.path.join(foldername, filename)\n",
        "            zipf.write(file_path, os.path.relpath(file_path, output_dir))\n",
        "\n",
        "zip_filename_corrected"
      ],
      "metadata": {
        "colab": {
          "base_uri": "https://localhost:8080/",
          "height": 36
        },
        "id": "aPRBzQWZWBbi",
        "outputId": "cf7abafb-bdaf-41c9-d7e9-a2bd54480fb0"
      },
      "execution_count": 1,
      "outputs": [
        {
          "output_type": "execute_result",
          "data": {
            "text/plain": [
              "'sim_nav_plans.zip'"
            ],
            "application/vnd.google.colaboratory.intrinsic+json": {
              "type": "string"
            }
          },
          "metadata": {},
          "execution_count": 1
        }
      ]
    },
    {
      "cell_type": "code",
      "source": [],
      "metadata": {
        "id": "TAEzKvpyWfxV"
      },
      "execution_count": 1,
      "outputs": []
    }
  ]
}