{
  "cells": [
    {
      "cell_type": "code",
      "execution_count": 2,
      "metadata": {
        "colab": {
          "base_uri": "https://localhost:8080/"
        },
        "id": "_D-IR5HXYaVg",
        "outputId": "67d0a9ba-678d-4b3c-b1cf-1d60e56160ce"
      },
      "outputs": [
        {
          "name": "stdout",
          "output_type": "stream",
          "text": [
            "simple1: [('CH.1', 'CH.3', 'SEJOUR'), ('CH.1', 'CUISINE', 'CH.3'), ('CH.1', 'CH.2', 'CH.3'), ('CUISINE', 'CH.3', 'SEJOUR'), ('CH.1', 'CUISINE', 'CH.2'), ('SEJOUR', 'CUISINE', 'CH.2'), ('CH.3', 'SEJOUR', 'CUISINE'), ('CUISINE', 'CH.3', 'CH.2'), ('CH.2', 'CUISINE', 'SEJOUR'), ('SEJOUR', 'CH.3', 'CH.2')]\n",
            "medium1: [('PORCHE', 'CELLIER', 'CH.2'), ('WC', 'CELLIER', 'PORCHE'), ('CH.2', 'CH.1', 'DEGT.'), ('CH.2', 'BAINS', 'DEGT.'), ('CH.1', 'CUISINE', 'CELLIER'), ('CELLIER', 'BAINS', 'WC'), ('CH.1', 'CUISINE', 'BAINS'), ('DEGT.', 'PORCHE', 'CH.2'), ('BAINS', 'CH.2', 'CH.1'), ('CELLIER', 'BAINS', 'CH.1')]\n",
            "complex1: [('CHAMBRE 2', 'CUISINE', 'CELLIER'), ('HALL', 'PORCHE', 'WC'), ('CELLIER', 'CHAMBRE 1', 'CUISINE'), ('CHAMBRE 2', 'TERRASSE COUVERTE', 'BAINS'), ('TERRASSE COUVERTE', 'CHAMBRE 1', 'HALL'), ('CUISINE', 'PORCHE', 'CELLIER'), ('TERRASSE COUVERTE', 'CUISINE', 'GARAGE'), ('CHAMBRE 2', 'CHAMBRE 1', 'CUISINE'), ('CUISINE', 'CHAMBRE 2', 'CELLIER'), ('WC', 'HALL', 'CHAMBRE 1')]\n",
            "complex2: [('CELLIER', 'BAINS', 'TERRASSE COUVERTE'), ('CUISINE', 'CELLIER', 'CHAMBRE 2'), ('TERRASSE COUVERTE', 'WC', 'GARAGE'), ('CHAMBRE 1', 'WC', 'GARAGE'), ('CUISINE', 'CHAMBRE 1', 'WC'), ('CHAMBRE 1', 'CUISINE', 'CHAMBRE 2'), ('CHAMBRE 1', 'WC', 'CELLIER'), ('CHAMBRE 2', 'CELLIER', 'HALL'), ('CELLIER', 'GARAGE', 'PORCHE'), ('CHAMBRE 2', 'HALL', 'PORCHE')]\n",
            "complex3: [('WC', 'PORCHE', 'CHAMBRE ENFANT 1'), ('BAINS', 'CELLIER', 'BUREAU'), ('CHAMBRE PARENTS', 'HALL', 'CELLIER'), ('PORCHE', 'LINGERIE', 'BAINS'), ('HALL', 'GARAGE', 'CELLIER'), ('LINGERIE', 'WC', 'CHAMBRE PARENTS'), ('BAINS', 'BUREAU', 'PORCHE'), ('HALL', 'BUREAU', 'CELLIER'), ('CELLIER', 'LINGERIE', 'WC'), ('BUREAU', 'BAINS', 'PORCHE')]\n",
            "simple2: [('BAINS', 'CH.1', 'GARAGE'), ('BAINS', 'GARAGE', 'CH.1'), ('CH.2', 'HALL', 'CUISINE'), ('CUISINE', 'CH.1', 'BAINS'), ('CH.1', 'GARAGE', 'BAINS'), ('BAINS', 'CH.2', 'CUISINE'), ('CUISINE', 'CH.1', 'CH.2'), ('CH.1', 'HALL', 'CUISINE'), ('CH.1', 'BAINS', 'CH.2'), ('CUISINE', 'HALL', 'BAINS')]\n",
            "medium2: [('CHAMBRE 1', 'HALL', 'CHAMBRE 2'), ('CHAMBRE 2', 'CHAMBRE 1', 'PORCHE'), ('HALL', 'CHAMBRE 1', 'CELLIER'), ('BAINS', 'PORCHE', 'HALL'), ('CHAMBRE 3', 'CELLIER', 'BAINS'), ('CHAMBRE 1', 'GARAGE', 'PORCHE'), ('GARAGE', 'CHAMBRE 3', 'BAINS'), ('PORCHE', 'GARAGE', 'CELLIER'), ('CHAMBRE 2', 'CELLIER', 'WC'), ('PORCHE', 'CHAMBRE 3', 'BAINS')]\n",
            "medium3: [('WC', 'HALL', 'CHAMBRE 1'), ('WC', 'HALL', 'CUISINE'), ('GARAGES', 'CUISINE', 'HALL'), ('HALL', 'GARAGES', 'CHAMBRE 1'), ('CHAMBRE 1', 'CUISINE', 'CELLIER'), ('CUISINE', 'CHAMBRE 1', 'CELLIER'), ('DOUCHE', 'WC', 'CELLIER'), ('WC', 'HALL', 'GARAGES'), ('GARAGES', 'CHAMBRE 1', 'CUISINE'), ('WC', 'HALL', 'CELLIER')]\n",
            "simple3: [('TERRASSE COUVERTE', 'CUISINE', 'CH. PARENTS'), ('CUISINE', 'CELLIER', 'CH. PARENTS'), ('CELLIER', 'TERRASSE COUVERTE', 'CH. PARENTS'), ('CH. PARENTS', 'TERRASSE COUVERTE', 'CUISINE'), ('DOUCHE', 'CUISINE', 'TERRASSE COUVERTE'), ('CELLIER', 'DOUCHE', 'CH. PARENTS'), ('CUISINE', 'CELLIER', 'TERRASSE COUVERTE'), ('CELLIER', 'CH. PARENTS', 'CUISINE'), ('TERRASSE COUVERTE', 'CUISINE', 'CELLIER'), ('TERRASSE COUVERTE', 'CUISINE', 'DOUCHE')]\n"
          ]
        }
      ],
      "source": [
        "import random\n",
        "\n",
        "# Read the room lists from the provided data\n",
        "room_lists = {\n",
        "    'simple1': ['CH.3', 'CH.2', 'CH.1', 'SEJOUR', 'CUISINE'],\n",
        "    'medium1': ['CELLIER', 'SEJOUR', 'CUISINE', 'DEGT.', 'WC', 'BAINS', 'CH.1', 'CH.2', 'PORCHE'],\n",
        "    'complex1': ['GARAGE', 'CELLIER', 'CHAMBRE 2', 'BAINS', 'WC', 'CHAMBRE 1', 'PORCHE', 'HALL', 'CUISINE', 'TERRASSE COUVERTE'],\n",
        "    'complex2': ['GARAGE', 'CELLIER', 'CHAMBRE 2', 'BAINS', 'WC', 'PORCHE', 'HALL', 'CHAMBRE 1', 'CUISINE', 'TERRASSE COUVERTE'],\n",
        "    'complex3': ['PORCHE', 'LINGERIE', 'BUREAU', 'BAINS', 'CHAMBRE PARENTS', 'GARAGE', 'CELLIER', 'HALL', 'WC', 'CHAMBRE ENFANT 1', 'CHAMBRE ENFANT 2'],\n",
        "    'simple2': ['CH.1', 'BAINS', 'GARAGE', 'CH.2', 'HALL', 'CUISINE'],\n",
        "    'medium2': ['GARAGE', 'CHAMBRE 1', 'CELLIER', 'BAINS', 'WC', 'HALL', 'CHAMBRE 3', 'CHAMBRE 2', 'PORCHE'],\n",
        "    'medium3': ['GARAGES', 'DOUCHE', 'CELLIER', 'WC', 'CHAMBRE 1', 'CUISINE', 'HALL'],\n",
        "    'simple3': ['CUISINE', 'CELLIER', 'TERRASSE COUVERTE', 'DOUCHE', 'CH. PARENTS']\n",
        "}\n",
        "\n",
        "# Generate 5 random plans for each room list\n",
        "random_plans = {}\n",
        "for key, rooms in room_lists.items():\n",
        "    plans = []\n",
        "    for _ in range(10):\n",
        "        start, intermediate, end = random.sample(rooms, 3)\n",
        "        plans.append((start, intermediate, end))\n",
        "    random_plans[key] = plans\n",
        "\n",
        "# Print the random plans\n",
        "for key, plan_list in random_plans.items():\n",
        "    print(f\"{key}: {plan_list}\")"
      ]
    },
    {
      "cell_type": "code",
      "execution_count": null,
      "metadata": {
        "id": "ieSdLQOWYbc9"
      },
      "outputs": [],
      "source": []
    }
  ],
  "metadata": {
    "colab": {
      "provenance": []
    },
    "kernelspec": {
      "display_name": "Python 3",
      "name": "python3"
    },
    "language_info": {
      "codemirror_mode": {
        "name": "ipython",
        "version": 3
      },
      "file_extension": ".py",
      "mimetype": "text/x-python",
      "name": "python",
      "nbconvert_exporter": "python",
      "pygments_lexer": "ipython3",
      "version": "3.9.4"
    }
  },
  "nbformat": 4,
  "nbformat_minor": 0
}
