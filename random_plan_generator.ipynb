{
  "cells": [
    {
      "cell_type": "code",
      "execution_count": null,
      "metadata": {
        "colab": {
          "base_uri": "https://localhost:8080/"
        },
        "id": "_D-IR5HXYaVg",
        "outputId": "67d0a9ba-678d-4b3c-b1cf-1d60e56160ce"
      },
      "outputs": [
        {
          "name": "stdout",
          "output_type": "stream",
          "text": [
            "IIa_BK0701: [('CH.1', 'CH.2'), ('CH.1', 'CUISINE'), ('CH.2', 'CUISINE'), ('CUISINE', 'CH.2'), ('CH.3', 'CUISINE'), ('CH.1', 'CH.3'), ('CH.1', 'CH.3'), ('CH.1', 'CH.2'), ('CH.3', 'CUISINE'), ('CUISINE', 'CH.3')]\n",
            "IIa_BK0703: [('SEJOUR', 'CAVE'), ('PORCHE', 'DEGT.'), ('CAVE', 'BAINS'), ('CAVE', 'CUISINE'), ('BAINS', 'CAVE'), ('WC', 'DEGT.'), ('WC', 'CH.2'), ('CELLIER', 'CH.1'), ('DEGT.', 'CH.2'), ('DEGT.', 'CAVE')]\n",
            "IIa_BN0802: [('REPAS', 'TERRASSE COUVERTE'), ('CELLIER', 'HALL'), ('CELLIER', 'HALL'), ('TERRASSE COUVERTE', 'SEJOUR'), ('WC', 'PORCHE'), ('SEJOUR', 'CHAMBRE 1'), ('PORCHE', 'CHAMBRE 2'), ('CHAMBRE 1', 'HALL'), ('CELLIER', 'BAINS'), ('CHAMBRE 2', 'HALL')]\n",
            "IIa_BN0820: [('CUISINE', 'WC'), ('CUISINE', 'CHAMBRE 2'), ('TERRASSE COUVERTE', 'HALL'), ('CUISINE', 'CHAMBRE 1'), ('WC', 'CUISINE'), ('CHAMBRE 1', 'GARAGE'), ('BAINS', 'TERRASSE COUVERTE'), ('BAINS', 'CHAMBRE 1'), ('CHAMBRE 1', 'WC'), ('BAINS', 'CHAMBRE 2')]\n",
            "IIa_FE0901: [('BUREAU', 'PORCHE'), ('HALL', 'WC'), ('GARAGE', 'LINGERIE'), ('PORCHE', 'CELLIER'), ('CHAMBRE PARENTS', 'BUREAU'), ('WC', 'BAINS'), ('BUREAU', 'CHAMBRE ENFANT 2'), ('HALL', 'WC'), ('BUREAU', 'CHAMBRE ENFANT 2'), ('HALL', 'CHAMBRE ENFANT 2')]\n",
            "IIa_OO0401: [('HALL', 'GARAGE'), ('HALL', 'BAINS'), ('HALL', 'BAINS'), ('CH.2', 'HALL'), ('BAINS', 'GARAGE'), ('HALL', 'CUISINE'), ('HALL', 'CH.1'), ('GARAGE', 'CH.1'), ('GARAGE', 'CH.1'), ('CH.2', 'CUISINE')]\n",
            "IIa_TD0810: [('CHAMBRE 1', 'CELLIER'), ('GARAGE', 'PORCHE'), ('GARAGE', 'BAINS'), ('GARAGE', 'WC'), ('GARAGE', 'WC'), ('CHAMBRE 2', 'CELLIER'), ('HALL', 'CHAMBRE 3'), ('CHAMBRE 1', 'PORCHE'), ('CHAMBRE 2', 'PORCHE'), ('CELLIER', 'HALL')]\n",
            "IIb_FZ0901: [('DOUCHE', 'GARAGES'), ('CHAMBRE 1', 'DOUCHE'), ('HALL', 'DOUCHE'), ('CHAMBRE 1', 'DOUCHE'), ('WC', 'CELLIER'), ('CHAMBRE 1', 'DOUCHE'), ('GARAGES', 'CELLIER'), ('GARAGES', 'HALL'), ('DOUCHE', 'WC'), ('CUISINE', 'DOUCHE')]\n",
            "IId_LA0401: [('CUISINE', 'CELLIER'), ('TERRASSE COUVERTE', 'CUISINE'), ('CUISINE', 'CH. PARENTS'), ('DOUCHE', 'CH. PARENTS'), ('CELLIER', 'DOUCHE'), ('CUISINE', 'DOUCHE'), ('CH. PARENTS', 'CELLIER'), ('CUISINE', 'DOUCHE'), ('CUISINE', 'CELLIER'), ('CELLIER', 'DOUCHE')]\n"
          ]
        }
      ],
      "source": [
        "import random\n",
        "\n",
        "# Read the room lists from the provided data\n",
        "room_lists = {\n",
        "    'simple1': ['CH.3', 'CH.2', 'CH.1', 'SEJOUR', 'CUISINE'],\n",
        "    'medium1': ['CELLIER', 'SEJOUR', 'CUISINE', 'DEGT.', 'WC', 'BAINS', 'CH.1', 'CH.2',, 'PORCHE'],\n",
        "    'complex1': ['GARAGE', 'CELLIER', 'CHAMBRE 2', 'BAINS', 'WC', 'CHAMBRE 1', 'PORCHE', 'HALL', 'CUISINE', 'TERRASSE COUVERTE'],\n",
        "    'complex2': ['GARAGE', 'CELLIER', 'CHAMBRE 2', 'BAINS', 'WC', 'PORCHE', 'HALL', 'CHAMBRE 1', 'CUISINE', 'TERRASSE COUVERTE'],\n",
        "    'complex3': ['PORCHE', 'LINGERIE', 'BUREAU', 'BAINS', 'CHAMBRE PARENTS', 'GARAGE', 'CELLIER', 'HALL', 'WC', 'CHAMBRE ENFANT 1', 'CHAMBRE ENFANT 2'],\n",
        "    'simple2': ['CH.1', 'BAINS', 'GARAGE', 'CH.2', 'HALL', 'CUISINE'],\n",
        "    'medium2': ['GARAGE', 'CHAMBRE 1', 'CELLIER', 'BAINS', 'WC', 'HALL', 'CHAMBRE 3', 'CHAMBRE 2', 'PORCHE'],\n",
        "    'medium3': ['GARAGES', 'DOUCHE', 'CELLIER', 'WC', 'CHAMBRE 1', 'CUISINE', 'HALL'],\n",
        "    'simple3': ['CUISINE', 'CELLIER', 'TERRASSE COUVERTE', 'DOUCHE', 'CH. PARENTS']\n",
        "}\n",
        "\n",
        "# Generate 5 random plans for each room list\n",
        "random_plans = {}\n",
        "for key, rooms in room_lists.items():\n",
        "    plans = []\n",
        "    for _ in range(10):\n",
        "        start, intermediate, end = random.sample(rooms, 3)\n",
        "        plans.append((start, intermediate, end))\n",
        "    random_plans[key] = plans\n",
        "\n",
        "# Print the random plans\n",
        "for key, plan_list in random_plans.items():\n",
        "    print(f\"{key}: {plan_list}\")"
      ]
    },
    {
      "cell_type": "code",
      "execution_count": null,
      "metadata": {
        "id": "ieSdLQOWYbc9"
      },
      "outputs": [],
      "source": []
    }
  ],
  "metadata": {
    "colab": {
      "provenance": []
    },
    "kernelspec": {
      "display_name": "Python 3",
      "name": "python3"
    },
    "language_info": {
      "name": "python",
      "version": "3.9.4"
    }
  },
  "nbformat": 4,
  "nbformat_minor": 0
}
